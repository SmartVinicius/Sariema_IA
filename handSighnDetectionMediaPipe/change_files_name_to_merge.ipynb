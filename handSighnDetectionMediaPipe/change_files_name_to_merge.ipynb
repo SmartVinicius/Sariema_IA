{
 "cells": [
  {
   "cell_type": "code",
   "execution_count": null,
   "metadata": {},
   "outputs": [],
   "source": [
    "import os"
   ]
  },
  {
   "cell_type": "code",
   "execution_count": null,
   "metadata": {},
   "outputs": [],
   "source": [
    "os.listdir('Data')"
   ]
  },
  {
   "cell_type": "code",
   "execution_count": null,
   "metadata": {},
   "outputs": [],
   "source": [
    "for name in os.listdir('Data/Fold2/'):\n",
    "    for sigla in os.listdir('Data/Fold2/' + name):\n",
    "        os.rename('Data/Fold2/' + name + '/' + sigla, 'Data/Fold2/' + name + '/' + sigla[:-4] + sigla)"
   ]
  },
  {
   "cell_type": "code",
   "execution_count": null,
   "metadata": {},
   "outputs": [],
   "source": [
    "for name in os.listdir('Data/Fold3/'):\n",
    "    for sigla in os.listdir('Data/Fold3/' + name):\n",
    "        os.rename('Data/Fold3/' + name + '/' + sigla, 'Data/Fold3/' + name + '/' + sigla[:-4] + sigla[:-4] + sigla)"
   ]
  },
  {
   "cell_type": "code",
   "execution_count": null,
   "metadata": {},
   "outputs": [],
   "source": [
    "for name in os.listdir('Data/Fold4/'):\n",
    "    for sigla in os.listdir('Data/Fold4/' + name):\n",
    "        os.rename('Data/Fold4/' + name + '/' + sigla, 'Data/Fold4/' + name + '/' + sigla[:-4] + sigla[:-4] + sigla[:-4] + sigla)"
   ]
  }
 ],
 "metadata": {
  "kernelspec": {
   "display_name": "python3_7_env",
   "language": "python",
   "name": "python3"
  },
  "language_info": {
   "codemirror_mode": {
    "name": "ipython",
    "version": 3
   },
   "file_extension": ".py",
   "mimetype": "text/x-python",
   "name": "python",
   "nbconvert_exporter": "python",
   "pygments_lexer": "ipython3",
   "version": "3.7.16"
  },
  "orig_nbformat": 4
 },
 "nbformat": 4,
 "nbformat_minor": 2
}
