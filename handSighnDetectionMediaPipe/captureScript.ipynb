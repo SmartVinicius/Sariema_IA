{
 "cells": [
  {
   "cell_type": "code",
   "execution_count": 8,
   "metadata": {},
   "outputs": [],
   "source": [
    "import cv2\n",
    "import mediapipe as mp\n",
    "import numpy as np\n",
    "from matplotlib import pyplot as plt\n",
    "import os"
   ]
  },
  {
   "attachments": {},
   "cell_type": "markdown",
   "metadata": {},
   "source": [
    "Para conseguir criar o seu dataset com as imagens da mao de vcs vai precisar criar as pastas das letras, palavras ou numeros dentro da pasta Data, e dentro dela é necessario criar uma outra pasta para juntar as imagens da sua mao.\n"
   ]
  },
  {
   "attachments": {},
   "cell_type": "markdown",
   "metadata": {},
   "source": [
    "Seguindo a estrutura criada é so tirar as fotos e colocar dentro da pasta que vc criou"
   ]
  },
  {
   "cell_type": "code",
   "execution_count": 28,
   "metadata": {},
   "outputs": [],
   "source": [
    "def capture_hand_image():\n",
    "    # simbolo que vai tirar a foto, precisa alterar toda vez que for fazer a captura\n",
    "    simbolo = '5'\n",
    "    # numero da sua pasta, basta alterar uma unica vez\n",
    "    num = 1\n",
    "\n",
    "    folder_path = os.path.abspath(f'./Data/Fold{num}/{simbolo}')\n",
    "    \n",
    "    mp_drawing = mp.solutions.drawing_utils\n",
    "    mp_hands = mp.solutions.hands\n",
    "    counter = 0\n",
    "\n",
    "    # Inicializa a câmera\n",
    "    cap = cv2.VideoCapture(0)\n",
    "\n",
    "    # Configuração da mediapipe\n",
    "    with mp_hands.Hands(\n",
    "        static_image_mode=True,\n",
    "        max_num_hands=1,\n",
    "        min_detection_confidence=0.7\n",
    "    ) as hands:\n",
    "        while cap.isOpened():\n",
    "            ret, frame = cap.read()\n",
    "\n",
    "            # Convertendo o frame para RGB\n",
    "            image = cv2.cvtColor(frame, cv2.COLOR_BGR2RGB)\n",
    "\n",
    "            # Detecta as mãos no frame\n",
    "            results = hands.process(image)\n",
    "\n",
    "            # Desenha as landmarks da mão no frame\n",
    "            if results.multi_hand_landmarks:\n",
    "                for hand_landmarks in results.multi_hand_landmarks:\n",
    "                    mp_drawing.draw_landmarks(\n",
    "                        image,\n",
    "                        hand_landmarks,\n",
    "                        mp_hands.HAND_CONNECTIONS\n",
    "                    )\n",
    "\n",
    "            # Exibe o frame\n",
    "            cv2.imshow('Hand Detection', cv2.cvtColor(image, cv2.COLOR_RGB2BGR))\n",
    "\n",
    "            # Captura a imagem quando a tecla 's' for pressionada\n",
    "            if cv2.waitKey(10) & 0xFF == ord('s'):\n",
    "                \n",
    "        \n",
    "                # Salva a imagem da mão isolada\n",
    "                cv2.imwrite(f\"{folder_path}/{counter}.jpg\", cv2.cvtColor(frame, cv2.COLOR_BGR2RGB))\n",
    "                counter += 1\n",
    "\n",
    "        \n",
    "            if(counter > 9) : break\n",
    "        # Libera os recursos\n",
    "        cap.release()\n",
    "        cv2.destroyAllWindows()\n"
   ]
  },
  {
   "cell_type": "code",
   "execution_count": 29,
   "metadata": {},
   "outputs": [],
   "source": [
    "if __name__ == \"__main__\":\n",
    "    capture_hand_image()"
   ]
  }
 ],
 "metadata": {
  "kernelspec": {
   "display_name": "Python 3",
   "language": "python",
   "name": "python3"
  },
  "language_info": {
   "codemirror_mode": {
    "name": "ipython",
    "version": 3
   },
   "file_extension": ".py",
   "mimetype": "text/x-python",
   "name": "python",
   "nbconvert_exporter": "python",
   "pygments_lexer": "ipython3",
   "version": "3.10.6"
  },
  "orig_nbformat": 4
 },
 "nbformat": 4,
 "nbformat_minor": 2
}
