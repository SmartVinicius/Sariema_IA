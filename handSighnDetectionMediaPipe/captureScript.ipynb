{
 "cells": [
  {
   "attachments": {},
   "cell_type": "markdown",
   "metadata": {},
   "source": [
    "Captura das Imagens necessárias para fazer o modelo"
   ]
  },
  {
   "attachments": {},
   "cell_type": "markdown",
   "metadata": {},
   "source": [
    "Instalação das bibliotecas necessárias"
   ]
  },
  {
   "cell_type": "code",
   "execution_count": null,
   "metadata": {},
   "outputs": [],
   "source": [
    "%pip install opencv-python"
   ]
  },
  {
   "cell_type": "code",
   "execution_count": 1,
   "metadata": {},
   "outputs": [],
   "source": [
    "import os\n",
    "import cv2"
   ]
  },
  {
   "attachments": {},
   "cell_type": "markdown",
   "metadata": {},
   "source": [
    "Para conseguir criar o seu dataset com as imagens da mao de vcs vai precisar criar as pastas das letras, palavras ou numeros dentro da pasta Data, e dentro dela é necessario criar uma outra pasta para juntar as imagens da sua mao.\n"
   ]
  },
  {
   "attachments": {},
   "cell_type": "markdown",
   "metadata": {},
   "source": [
    "Seguindo a estrutura criada é so tirar as fotos e colocar dentro da pasta que vc criou"
   ]
  },
  {
   "cell_type": "code",
   "execution_count": 2,
   "metadata": {},
   "outputs": [
    {
     "name": "stdout",
     "output_type": "stream",
     "text": [
      "range(0, 32)\n"
     ]
    }
   ],
   "source": [
    "DATA_DIR = './data'\n",
    "if not os.path.exists(DATA_DIR):\n",
    "    os.makedirs(DATA_DIR)\n",
    "\n",
    "number_of_classes = ['1','2','4','5','7','9','A','ADULTO','AVIAO','B','C','D','E','F','G','I','L','M','N','O','P','PALAVRA','PEQUENO','Q','R','S','T','U','V','W','X','Y']\n",
    "# contagem valor final\n",
    "dataset_size = 399\n",
    "print(range(len(number_of_classes)))"
   ]
  },
  {
   "cell_type": "code",
   "execution_count": 3,
   "metadata": {},
   "outputs": [
    {
     "name": "stdout",
     "output_type": "stream",
     "text": [
      "Collecting data for class 1\n",
      "Collecting data for class 2\n",
      "Collecting data for class 4\n",
      "Collecting data for class 5\n",
      "Collecting data for class 7\n",
      "Collecting data for class 9\n",
      "Collecting data for class A\n",
      "Collecting data for class ADULTO\n",
      "Collecting data for class AVIAO\n",
      "Collecting data for class B\n",
      "Collecting data for class C\n",
      "Collecting data for class D\n",
      "Collecting data for class E\n",
      "Collecting data for class F\n",
      "Collecting data for class G\n",
      "Collecting data for class I\n",
      "Collecting data for class L\n",
      "Collecting data for class M\n",
      "Collecting data for class N\n",
      "Collecting data for class O\n",
      "Collecting data for class P\n",
      "Collecting data for class PALAVRA\n",
      "Collecting data for class PEQUENO\n",
      "Collecting data for class Q\n",
      "Collecting data for class R\n",
      "Collecting data for class S\n",
      "Collecting data for class T\n",
      "Collecting data for class U\n",
      "Collecting data for class V\n",
      "Collecting data for class W\n",
      "Collecting data for class X\n",
      "Collecting data for class Y\n"
     ]
    }
   ],
   "source": [
    "cap = cv2.VideoCapture(0)\n",
    "for j in range(len(number_of_classes)):\n",
    "    if not os.path.exists(os.path.join(DATA_DIR, number_of_classes[j])):\n",
    "        os.makedirs(os.path.join(DATA_DIR, number_of_classes[j]))\n",
    "\n",
    "    print(f'Collecting data for class {number_of_classes[j]}')\n",
    "\n",
    "    done = False\n",
    "    while True:\n",
    "        ret, frame = cap.read()\n",
    "        cv2.putText(frame, 'Ready? Press \"Q\" ! :)', (100, 50), cv2.FONT_HERSHEY_SIMPLEX, 1.3, (0, 255, 0), 3,\n",
    "                    cv2.LINE_AA)\n",
    "        cv2.imshow('frame', frame)\n",
    "        if cv2.waitKey(25) == ord('q'):\n",
    "            break\n",
    "    # contagem valor inicial\n",
    "    counter = 300\n",
    "    while counter < dataset_size:\n",
    "        ret, frame = cap.read()\n",
    "        cv2.imshow('frame', frame)\n",
    "        cv2.waitKey(25)\n",
    "        cv2.imwrite(os.path.join(DATA_DIR, number_of_classes[j], '{}.jpg'.format(counter)), frame)\n",
    "\n",
    "        counter += 1\n",
    "\n",
    "cap.release()\n",
    "cv2.destroyAllWindows()\n"
   ]
  }
 ],
 "metadata": {
  "kernelspec": {
   "display_name": "Python 3",
   "language": "python",
   "name": "python3"
  },
  "language_info": {
   "codemirror_mode": {
    "name": "ipython",
    "version": 3
   },
   "file_extension": ".py",
   "mimetype": "text/x-python",
   "name": "python",
   "nbconvert_exporter": "python",
   "pygments_lexer": "ipython3",
   "version": "3.7.1"
  },
  "orig_nbformat": 4
 },
 "nbformat": 4,
 "nbformat_minor": 2
}
