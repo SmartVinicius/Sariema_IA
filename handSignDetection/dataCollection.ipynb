{
 "cells": [
  {
   "cell_type": "code",
   "execution_count": 1,
   "metadata": {},
   "outputs": [
    {
     "name": "stdout",
     "output_type": "stream",
     "text": [
      "Defaulting to user installation because normal site-packages is not writeable\n",
      "Requirement already satisfied: opencv-python in /home/guilherme/.local/lib/python3.10/site-packages (4.7.0.72)\n",
      "Requirement already satisfied: numpy in /home/guilherme/.local/lib/python3.10/site-packages (1.24.3)\n",
      "Note: you may need to restart the kernel to use updated packages.\n"
     ]
    }
   ],
   "source": [
    "%pip install opencv-python numpy"
   ]
  },
  {
   "cell_type": "code",
   "execution_count": 1,
   "metadata": {},
   "outputs": [
    {
     "name": "stderr",
     "output_type": "stream",
     "text": [
      "2023-05-30 19:54:47.954569: I tensorflow/core/platform/cpu_feature_guard.cc:193] This TensorFlow binary is optimized with oneAPI Deep Neural Network Library (oneDNN) to use the following CPU instructions in performance-critical operations:  AVX2 FMA\n",
      "To enable them in other operations, rebuild TensorFlow with the appropriate compiler flags.\n",
      "2023-05-30 19:54:48.203860: W tensorflow/compiler/xla/stream_executor/platform/default/dso_loader.cc:64] Could not load dynamic library 'libcudart.so.11.0'; dlerror: libcudart.so.11.0: cannot open shared object file: No such file or directory; LD_LIBRARY_PATH: /home/guilherme/.local/lib/python3.10/site-packages/cv2/../../lib64:\n",
      "2023-05-30 19:54:48.203916: I tensorflow/compiler/xla/stream_executor/cuda/cudart_stub.cc:29] Ignore above cudart dlerror if you do not have a GPU set up on your machine.\n",
      "2023-05-30 19:54:49.550646: W tensorflow/compiler/xla/stream_executor/platform/default/dso_loader.cc:64] Could not load dynamic library 'libnvinfer.so.7'; dlerror: libnvinfer.so.7: cannot open shared object file: No such file or directory; LD_LIBRARY_PATH: /home/guilherme/.local/lib/python3.10/site-packages/cv2/../../lib64:\n",
      "2023-05-30 19:54:49.550752: W tensorflow/compiler/xla/stream_executor/platform/default/dso_loader.cc:64] Could not load dynamic library 'libnvinfer_plugin.so.7'; dlerror: libnvinfer_plugin.so.7: cannot open shared object file: No such file or directory; LD_LIBRARY_PATH: /home/guilherme/.local/lib/python3.10/site-packages/cv2/../../lib64:\n",
      "2023-05-30 19:54:49.550763: W tensorflow/compiler/tf2tensorrt/utils/py_utils.cc:38] TF-TRT Warning: Cannot dlopen some TensorRT libraries. If you would like to use Nvidia GPU with TensorRT, please make sure the missing libraries mentioned above are installed properly.\n",
      "[ WARN:0@4.741] global cap_v4l.cpp:982 open VIDEOIO(V4L2:/dev/video0): can't open camera by index\n",
      "[ERROR:0@4.783] global obsensor_uvc_stream_channel.cpp:156 getStreamChannelGroup Camera index out of range\n",
      "INFO: Created TensorFlow Lite XNNPACK delegate for CPU.\n"
     ]
    },
    {
     "ename": "error",
     "evalue": "OpenCV(4.7.0) /io/opencv/modules/imgproc/src/color.cpp:182: error: (-215:Assertion failed) !_src.empty() in function 'cvtColor'\n",
     "output_type": "error",
     "traceback": [
      "\u001b[0;31m---------------------------------------------------------------------------\u001b[0m",
      "\u001b[0;31merror\u001b[0m                                     Traceback (most recent call last)",
      "Cell \u001b[0;32mIn[1], line 19\u001b[0m\n\u001b[1;32m     17\u001b[0m success, img \u001b[39m=\u001b[39m cap\u001b[39m.\u001b[39mread()\n\u001b[1;32m     18\u001b[0m \u001b[39m# encontra a mão e coloca os pontos de dobra\u001b[39;00m\n\u001b[0;32m---> 19\u001b[0m hands, img \u001b[39m=\u001b[39m detector\u001b[39m.\u001b[39;49mfindHands(img)\n\u001b[1;32m     21\u001b[0m \u001b[39mif\u001b[39;00m hands:\n\u001b[1;32m     22\u001b[0m     \n\u001b[1;32m     23\u001b[0m     \u001b[39m# Hand 1\u001b[39;00m\n\u001b[1;32m     24\u001b[0m     hand1 \u001b[39m=\u001b[39m hands[\u001b[39m0\u001b[39m] \u001b[39m#pega a unica mao da camera\u001b[39;00m\n",
      "File \u001b[0;32m~/.local/lib/python3.10/site-packages/cvzone/HandTrackingModule.py:48\u001b[0m, in \u001b[0;36mHandDetector.findHands\u001b[0;34m(self, img, draw, flipType)\u001b[0m\n\u001b[1;32m     41\u001b[0m \u001b[39mdef\u001b[39;00m \u001b[39mfindHands\u001b[39m(\u001b[39mself\u001b[39m, img, draw\u001b[39m=\u001b[39m\u001b[39mTrue\u001b[39;00m, flipType\u001b[39m=\u001b[39m\u001b[39mTrue\u001b[39;00m):\n\u001b[1;32m     42\u001b[0m \u001b[39m    \u001b[39m\u001b[39m\"\"\"\u001b[39;00m\n\u001b[1;32m     43\u001b[0m \u001b[39m    Finds hands in a BGR image.\u001b[39;00m\n\u001b[1;32m     44\u001b[0m \u001b[39m    :param img: Image to find the hands in.\u001b[39;00m\n\u001b[1;32m     45\u001b[0m \u001b[39m    :param draw: Flag to draw the output on the image.\u001b[39;00m\n\u001b[1;32m     46\u001b[0m \u001b[39m    :return: Image with or without drawings\u001b[39;00m\n\u001b[1;32m     47\u001b[0m \u001b[39m    \"\"\"\u001b[39;00m\n\u001b[0;32m---> 48\u001b[0m     imgRGB \u001b[39m=\u001b[39m cv2\u001b[39m.\u001b[39;49mcvtColor(img, cv2\u001b[39m.\u001b[39;49mCOLOR_BGR2RGB)\n\u001b[1;32m     49\u001b[0m     \u001b[39mself\u001b[39m\u001b[39m.\u001b[39mresults \u001b[39m=\u001b[39m \u001b[39mself\u001b[39m\u001b[39m.\u001b[39mhands\u001b[39m.\u001b[39mprocess(imgRGB)\n\u001b[1;32m     50\u001b[0m     allHands \u001b[39m=\u001b[39m []\n",
      "\u001b[0;31merror\u001b[0m: OpenCV(4.7.0) /io/opencv/modules/imgproc/src/color.cpp:182: error: (-215:Assertion failed) !_src.empty() in function 'cvtColor'\n"
     ]
    }
   ],
   "source": [
    "from cvzone.HandTrackingModule import HandDetector\n",
    "import cv2\n",
    "import numpy as np\n",
    "import math\n",
    "import time\n",
    "\n",
    "cap = cv2.VideoCapture(0)\n",
    "detector = HandDetector(detectionCon=0.8, maxHands=1)\n",
    "offset = 40\n",
    "imgSize = 350\n",
    "counter = 0\n",
    "\n",
    "dataCollectionFolder = \"./Data/1\"\n",
    "\n",
    "while True:\n",
    "    # pega o frame da imagem\n",
    "    success, img = cap.read()\n",
    "    # encontra a mão e coloca os pontos de dobra\n",
    "    hands, img = detector.findHands(img)\n",
    "\n",
    "    if hands:\n",
    "        \n",
    "        # Hand 1\n",
    "        hand1 = hands[0] #pega a unica mao da camera\n",
    "        # retorna as coordenadas e tamanho da mao x,y,w,h\n",
    "        x,y,w,h= hand1[\"bbox\"]\n",
    "\n",
    "        # imgWhite = np.ones((imgSize,imgSize,3),np.uint8)*255\n",
    "\n",
    "        # corta a camera para que so apareça a imagem da mão\n",
    "        imgCrop = img[y-offset:y+h+offset,x-offset:x+w+offset]\n",
    "\n",
    "        imgCropShape = imgCrop.shape\n",
    "\n",
    "        aspectRatio = h/w\n",
    "        # se a altura for maior que a largura\n",
    "        if aspectRatio > 1:\n",
    "            try:\n",
    "                k = imgSize/h\n",
    "                wCal = math.ceil(k * w)\n",
    "                imgResize = cv2.resize(imgCrop,(wCal,imgSize))\n",
    "            # imgResizeShape = imgResize.shape\n",
    "            # wGap = math.ceil((imgSize - wCal)/2)\n",
    "            # imgWhite[:,wGap:wCal + wGap]= imgResize\n",
    "            except:\n",
    "                pass\n",
    "        else:\n",
    "            k = imgSize/w\n",
    "            hCal = math.ceil(k * h)\n",
    "            imgResize = cv2.resize(imgCrop,(hCal,imgSize))\n",
    "            # imgResizeShape = imgResize.shape\n",
    "            # hGap = math.ceil((imgSize - hCal)/2)\n",
    "            # imgWhite[hGap:hCal + hGap,:] = imgResize\n",
    "\n",
    "        # ponto central da mao c1 e c2\n",
    "        # centerPoint1 = hand1['center']  \n",
    "        # define qual mao que é esquerda ou direita\n",
    "        handType1 = hand1[\"type\"]  \n",
    "        # fingers1 = detector.fingersUp(hand1)\n",
    "        # mostra a imagem somente da mao\n",
    "        cv2.imshow(\"Image Crop\", imgCrop)\n",
    "        # cv2.imshow(\"Image White\", imgWhite)\n",
    "\n",
    "    # mostra a imagem\n",
    "    cv2.imshow(\"Image\", img)\n",
    "    \n",
    "    key = cv2.waitKey(1)\n",
    "\n",
    "    if key == ord('q'):\n",
    "        break\n",
    "\n",
    "    if key == ord('s'):\n",
    "        counter += 1 \n",
    "        # sempre criar o diretorio em que vai salvar antes de salvar nele\n",
    "        # caso vc necessite das imagens com Sinal de Libras \"A\" crie a Pasta Data/A\n",
    "        # toda vez que for fazer uma coleta de dados de mão trocar o diretorio \n",
    "        # em que for salvo de acordo com o sinal feito\n",
    "        cv2.imwrite(f\"{dataCollectionFolder}/{counter}.jpg\",imgCrop)\n",
    "        print(counter)\n",
    "cap.release()\n",
    "cv2.destroyAllWindows()\n"
   ]
  }
 ],
 "metadata": {
  "kernelspec": {
   "display_name": "Python 3",
   "language": "python",
   "name": "python3"
  },
  "language_info": {
   "codemirror_mode": {
    "name": "ipython",
    "version": 3
   },
   "file_extension": ".py",
   "mimetype": "text/x-python",
   "name": "python",
   "nbconvert_exporter": "python",
   "pygments_lexer": "ipython3",
   "version": "3.10.6"
  },
  "orig_nbformat": 4
 },
 "nbformat": 4,
 "nbformat_minor": 2
}
