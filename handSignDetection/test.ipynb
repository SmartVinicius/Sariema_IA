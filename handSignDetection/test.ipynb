{
 "cells": [
  {
   "cell_type": "code",
   "execution_count": 1,
   "metadata": {},
   "outputs": [
    {
     "name": "stdout",
     "output_type": "stream",
     "text": [
      "Defaulting to user installation because normal site-packages is not writeable\n",
      "Requirement already satisfied: cvzone in /home/guilherme/.local/lib/python3.10/site-packages (1.5.6)\n",
      "Requirement already satisfied: mediapipe in /home/guilherme/.local/lib/python3.10/site-packages (0.10.0)\n",
      "Requirement already satisfied: opencv-python in /home/guilherme/.local/lib/python3.10/site-packages (from cvzone) (4.7.0.72)\n",
      "Requirement already satisfied: numpy in /home/guilherme/.local/lib/python3.10/site-packages (from cvzone) (1.24.3)\n",
      "Requirement already satisfied: matplotlib in /home/guilherme/.local/lib/python3.10/site-packages (from mediapipe) (3.7.1)\n",
      "Requirement already satisfied: absl-py in /home/guilherme/.local/lib/python3.10/site-packages (from mediapipe) (1.4.0)\n",
      "Requirement already satisfied: flatbuffers>=2.0 in /home/guilherme/.local/lib/python3.10/site-packages (from mediapipe) (23.5.9)\n",
      "Requirement already satisfied: sounddevice>=0.4.4 in /home/guilherme/.local/lib/python3.10/site-packages (from mediapipe) (0.4.6)\n",
      "Requirement already satisfied: protobuf<4,>=3.11 in /usr/lib/python3/dist-packages (from mediapipe) (3.12.4)\n",
      "Requirement already satisfied: attrs>=19.1.0 in /usr/lib/python3/dist-packages (from mediapipe) (21.2.0)\n",
      "Requirement already satisfied: opencv-contrib-python in /home/guilherme/.local/lib/python3.10/site-packages (from mediapipe) (4.7.0.72)\n",
      "Requirement already satisfied: CFFI>=1.0 in /home/guilherme/.local/lib/python3.10/site-packages (from sounddevice>=0.4.4->mediapipe) (1.15.1)\n",
      "Requirement already satisfied: python-dateutil>=2.7 in /home/guilherme/.local/lib/python3.10/site-packages (from matplotlib->mediapipe) (2.8.2)\n",
      "Requirement already satisfied: kiwisolver>=1.0.1 in /home/guilherme/.local/lib/python3.10/site-packages (from matplotlib->mediapipe) (1.4.4)\n",
      "Requirement already satisfied: contourpy>=1.0.1 in /home/guilherme/.local/lib/python3.10/site-packages (from matplotlib->mediapipe) (1.0.7)\n",
      "Requirement already satisfied: pyparsing>=2.3.1 in /usr/lib/python3/dist-packages (from matplotlib->mediapipe) (2.4.7)\n",
      "Requirement already satisfied: pillow>=6.2.0 in /usr/lib/python3/dist-packages (from matplotlib->mediapipe) (9.0.1)\n",
      "Requirement already satisfied: packaging>=20.0 in /home/guilherme/.local/lib/python3.10/site-packages (from matplotlib->mediapipe) (23.1)\n",
      "Requirement already satisfied: cycler>=0.10 in /home/guilherme/.local/lib/python3.10/site-packages (from matplotlib->mediapipe) (0.11.0)\n",
      "Requirement already satisfied: fonttools>=4.22.0 in /home/guilherme/.local/lib/python3.10/site-packages (from matplotlib->mediapipe) (4.39.4)\n",
      "Requirement already satisfied: pycparser in /home/guilherme/.local/lib/python3.10/site-packages (from CFFI>=1.0->sounddevice>=0.4.4->mediapipe) (2.21)\n",
      "Requirement already satisfied: six>=1.5 in /usr/lib/python3/dist-packages (from python-dateutil>=2.7->matplotlib->mediapipe) (1.16.0)\n",
      "Note: you may need to restart the kernel to use updated packages.\n"
     ]
    }
   ],
   "source": []
  }
 ],
 "metadata": {
  "kernelspec": {
   "display_name": "Python 3",
   "language": "python",
   "name": "python3"
  },
  "language_info": {
   "codemirror_mode": {
    "name": "ipython",
    "version": 3
   },
   "file_extension": ".py",
   "mimetype": "text/x-python",
   "name": "python",
   "nbconvert_exporter": "python",
   "pygments_lexer": "ipython3",
   "version": "3.10.6"
  },
  "orig_nbformat": 4
 },
 "nbformat": 4,
 "nbformat_minor": 2
}
